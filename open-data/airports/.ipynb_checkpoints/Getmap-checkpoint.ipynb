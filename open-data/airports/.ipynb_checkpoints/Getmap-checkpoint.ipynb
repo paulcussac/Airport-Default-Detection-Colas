{
 "cells": [
  {
   "cell_type": "code",
   "execution_count": 1,
   "id": "68596aa5",
   "metadata": {},
   "outputs": [],
   "source": [
    "import requests as r\n",
    "import pandas as pd\n",
    "import json\n",
    "from PIL import Image\n",
    "import matplotlib.pyplot as plt"
   ]
  },
  {
   "cell_type": "code",
   "execution_count": 2,
   "id": "1bdfc0b6",
   "metadata": {},
   "outputs": [],
   "source": [
    "# In order to get a key, you need to register on the geoservices french website\n",
    "# The key will not be used in the following code, however I put mine there if you intend to reuse the code for more advanced service\n",
    "# You will then need to replace the second 'inspire' parameter by the key in the url request\n",
    "api_key = \"223kqajqdjl4hjf6e180ptge\""
   ]
  },
  {
   "cell_type": "code",
   "execution_count": 5,
   "id": "17498f48",
   "metadata": {},
   "outputs": [],
   "source": [
    "data = pd.read_csv('aeroports.csv')"
   ]
  },
  {
   "cell_type": "code",
   "execution_count": 18,
   "id": "822b1731",
   "metadata": {},
   "outputs": [],
   "source": [
    "# The first step is to get all coordinates and extract latitude and longitude in order to design a bounding box for the polygon\n",
    "\n",
    "# The bouding box in the API is defined by 2 parameters : top-left cornerccoordinates, bottom_right corner coordinates\n",
    "# We originally have airports coordinates as polygons (list of latitudes and longitudes), so we need to transform polygon coordinates to nearest fitting rectangle\n",
    "\n",
    "# Top left corner coordinates are (max_latitude, min_longitude)\n",
    "# Bottom right corner coordinates are (min_latitude, max_longitude)\n",
    "\n",
    "data['coordinates_clean'] = data.apply(lambda x: x.geometry.replace('POLYGON','').replace('MULTI','')\\\n",
    "                                                    .strip().split(','), axis=1)"
   ]
  },
  {
   "cell_type": "code",
   "execution_count": 20,
   "id": "da1de842",
   "metadata": {},
   "outputs": [],
   "source": [
    "def get_all_coor(list_coor):\n",
    "    all_lat = []\n",
    "    all_lon = []\n",
    "    for string in list_coor:\n",
    "        string_clean = string.strip()\n",
    "        lat = float(string_clean.split()[1].replace(')','').replace('(',''))\n",
    "        lon = float(string_clean.split()[0].replace(')','').replace('(',''))\n",
    "        all_lat.append(lat)\n",
    "        all_lon.append(lon)\n",
    "    return(all_lat, all_lon)"
   ]
  },
  {
   "cell_type": "code",
   "execution_count": 21,
   "id": "e545331e",
   "metadata": {},
   "outputs": [],
   "source": [
    "data['all_coor'] = data.apply(lambda x: get_all_coor(x.coordinates_clean), axis=1)"
   ]
  },
  {
   "cell_type": "code",
   "execution_count": 25,
   "id": "131f3fdd",
   "metadata": {},
   "outputs": [],
   "source": [
    "data['max_lat'] = data.apply(lambda x: str(max(x.all_coor[0])) ,axis=1)\n",
    "data['min_lat'] = data.apply(lambda x: str(min(x.all_coor[0])),axis=1)\n",
    "data['max_lon'] = data.apply(lambda x: str(max(x.all_coor[1])),axis=1)\n",
    "data['min_lon'] = data.apply(lambda x: str(min(x.all_coor[1])),axis=1)"
   ]
  },
  {
   "cell_type": "code",
   "execution_count": 26,
   "id": "2037030a",
   "metadata": {},
   "outputs": [],
   "source": [
    "data['bbox'] = data.apply(lambda x: x.min_lat + ',' + x.min_lon + ',' + x.max_lat + ',' + x.max_lon, axis=1)"
   ]
  },
  {
   "cell_type": "code",
   "execution_count": 50,
   "id": "307bbc05",
   "metadata": {},
   "outputs": [],
   "source": [
    "url_start = \"https://wxs.ign.fr/ortho/geoportail/r/wms?LAYERS=ORTHOIMAGERY.ORTHOPHOTOS&EXCEPTIONS=text/xml&\" +\\\n",
    "            \"FORMAT=image/png&SERVICE=WMS&VERSION=1.3.0&REQUEST=GetMap&STYLES=&CRS=EPSG:4326&BBOX=\" \n",
    "url_end = \" &WIDTH=1024&HEIGHT=1024\"\n",
    "\n",
    "data['url_path'] = data.apply(lambda x: url_start + x.bbox + url_end, axis=1)"
   ]
  },
  {
   "cell_type": "code",
   "execution_count": 51,
   "id": "2022beb5",
   "metadata": {},
   "outputs": [
    {
     "data": {
      "text/plain": [
       "'https://wxs.ign.fr/ortho/geoportail/r/wms?LAYERS=ORTHOIMAGERY.ORTHOPHOTOS&EXCEPTIONS=text/xml&FORMAT=image/png&SERVICE=WMS&VERSION=1.3.0&REQUEST=GetMap&STYLES=&CRS=EPSG:4326&BBOX=47.357152187886484,2.9103049689323055,47.36294024661418,2.9233678458506147 &WIDTH=1024&HEIGHT=1024'"
      ]
     },
     "execution_count": 51,
     "metadata": {},
     "output_type": "execute_result"
    }
   ],
   "source": [
    "data['url_path'].iloc[0]"
   ]
  },
  {
   "cell_type": "code",
   "execution_count": null,
   "id": "669ad5e7",
   "metadata": {},
   "outputs": [],
   "source": []
  }
 ],
 "metadata": {
  "kernelspec": {
   "display_name": "Python 3 (ipykernel)",
   "language": "python",
   "name": "python3"
  },
  "language_info": {
   "codemirror_mode": {
    "name": "ipython",
    "version": 3
   },
   "file_extension": ".py",
   "mimetype": "text/x-python",
   "name": "python",
   "nbconvert_exporter": "python",
   "pygments_lexer": "ipython3",
   "version": "3.8.12"
  }
 },
 "nbformat": 4,
 "nbformat_minor": 5
}
